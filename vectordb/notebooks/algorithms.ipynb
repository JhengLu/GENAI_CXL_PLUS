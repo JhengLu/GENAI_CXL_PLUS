{
 "cells": [
  {
   "cell_type": "code",
   "execution_count": 1,
   "metadata": {},
   "outputs": [],
   "source": [
    "import os\n",
    "import sys\n",
    "import time\n",
    "import faiss\n",
    "import numpy as np\n",
    "\n",
    "sys.path.append(\"..\")\n",
    "from utils.vdb_utils import load_index, random_queries"
   ]
  },
  {
   "cell_type": "code",
   "execution_count": 2,
   "metadata": {},
   "outputs": [],
   "source": [
    "# query index\n",
    "def query_index(index, queries, k):\n",
    "    D, I = index.search(queries, k)\n",
    "    return D, I\n",
    "\n",
    "def query_index_file(index_path, queries, k):\n",
    "    index = load_index(index_path)\n",
    "    D, I = query_index(index, queries, k)\n",
    "    return D, I\n",
    "\n",
    "def batch_query_index(index, queries, k, batch_size=1000):\n",
    "    D = np.array([])\n",
    "    I = np.array([])\n",
    "    for i in range(0, len(queries), batch_size):\n",
    "        D_batch, I_batch = query_index(index, queries[i:i+batch_size], k)\n",
    "        D = np.concatenate((D, D_batch), axis=0) if D.size else D_batch\n",
    "        I = np.concatenate((I, I_batch), axis=0) if I.size else I_batch\n",
    "    return D, I"
   ]
  },
  {
   "cell_type": "code",
   "execution_count": 101,
   "metadata": {},
   "outputs": [],
   "source": [
    "def search_outterloop_query(stopology, queries, idx_k, k, idx_paths):\n",
    "    '''\n",
    "    Search a batch of queries: looping over queries \n",
    "\n",
    "    args:\n",
    "        - search topology: {qidx1: [idx1,...]}\n",
    "        - query: (num, dim)\n",
    "        - idx_k: k for each index search\n",
    "        - k: top k results (global)\n",
    "        - idx_paths: list of index paths\n",
    "    '''\n",
    "    # result_matrix: init ndarray with shape (num_queries, k)\n",
    "    final_D_matrix = np.zeros((queries.shape[0], k))\n",
    "    final_I_matrix = np.zeros((queries.shape[0], k))\n",
    "    final_file_idx_matrix = np.zeros((queries.shape[0], k))\n",
    "\n",
    "    # loop over queries\n",
    "    for q_idx, idxs in stopology.items():\n",
    "        # select query make shape (1, dim)\n",
    "        query = queries[q_idx].reshape(1, -1)\n",
    "        D_concat = np.array([])\n",
    "        I_concat = np.array([])\n",
    "        file_idx_concat = np.array([])\n",
    "\n",
    "        # loop over idxs for each query\n",
    "        for j, file_idx in enumerate(idxs):\n",
    "            D, I = query_index_file(idx_paths[file_idx], query, idx_k)\n",
    "            # make file_idx_matrix\n",
    "            file_idx_m = np.ones_like(D) * file_idx\n",
    "            D_concat = np.concatenate((D_concat, D), axis=1) if D_concat.size else D\n",
    "            I_concat = np.concatenate((I_concat, I), axis=1) if I_concat.size else I\n",
    "            file_idx_concat = np.concatenate((file_idx_concat, file_idx_m), axis=1) if file_idx_concat.size else file_idx_m\n",
    "\n",
    "        # Sort Overwrite D_concat, I_concat, and file_idx_concat. \n",
    "        sort_idx = np.argsort(D_concat, axis=1)\n",
    "        D_concat = np.take_along_axis(D_concat, sort_idx, axis=1)\n",
    "        I_concat = np.take_along_axis(I_concat, sort_idx, axis=1)\n",
    "        file_idx_concat = np.take_along_axis(file_idx_concat, sort_idx, axis=1)\n",
    "        \n",
    "        # update final matrix with top k\n",
    "        final_D_matrix[q_idx] = D_concat[:, :k]\n",
    "        final_I_matrix[q_idx] = I_concat[:, :k]\n",
    "        final_file_idx_matrix[q_idx] = file_idx_concat[:, :k]\n",
    "    return final_D_matrix, final_I_matrix.astype(int), final_file_idx_matrix.astype(int)\n",
    "    \n",
    "\n",
    "def batch_queries_by_stopology(stopology, queries):\n",
    "    '''\n",
    "    This function take in a outterloop index topology and a global query batch. \n",
    "    Return a list of batched queries for each index search.\n",
    "\n",
    "    args:\n",
    "        - search topology: {index1: [q1,q2...]}\n",
    "        - query: (num, dim)\n",
    "\n",
    "    return:\n",
    "        - [query_batch1, query_batch2...]\n",
    "            - query_batch: (num_queries, dim)\n",
    "    '''\n",
    "    query_batch_dict = {}\n",
    "    for idx, q_idxs in stopology.items():\n",
    "        query_batch = queries[q_idxs]\n",
    "        query_batch_dict[idx] = query_batch\n",
    "    return query_batch_dict\n",
    "\n",
    "def search_outterloop_index(stopology, queries, idx_k, k, idx_paths):\n",
    "    '''\n",
    "    Search a batch of index: looping over index shards\n",
    "\n",
    "    args:\n",
    "        - search topology: {index1: [q1,q2...]}\n",
    "        - queries: (num, dim)\n",
    "        - idx_k: k for each index search\n",
    "        - k: top k results (global)\n",
    "        - idx_paths: list of index paths\n",
    "    '''\n",
    "    # result_matrix: init ndarray with shape (num_queries, k)\n",
    "    final_D_matrix = np.ones((queries.shape[0], k)) * np.inf\n",
    "    final_I_matrix = np.zeros((queries.shape[0], k))\n",
    "    final_file_idx_matrix = np.zeros((queries.shape[0], k))\n",
    "\n",
    "    # batch queries by stopology: {idx1, [q1_data, q2_data...]}\n",
    "    stopology_queries_dict = batch_queries_by_stopology(stopology, queries)\n",
    "\n",
    "    # loop over index shards\n",
    "    for file_idx, q_idxs in stopology.items():\n",
    "        # loop over q_idxs for each index\n",
    "        query_batch = stopology_queries_dict[file_idx]\n",
    "        # query_batch_order = q_idxs\n",
    "        D, I = query_index_file(idx_paths[file_idx], query_batch, idx_k)\n",
    "        file_idx_m = np.ones_like(D) * file_idx\n",
    "        \n",
    "        # merge and compare results in final matrix (D), then save top k\n",
    "        prev_D = final_D_matrix[q_idxs]\n",
    "        prev_I = final_I_matrix[q_idxs]\n",
    "        prev_file_idx = final_file_idx_matrix[q_idxs]\n",
    "        # merge and sort\n",
    "        D_concat = np.concatenate((prev_D, D), axis=1)\n",
    "        I_concat = np.concatenate((prev_I, I), axis=1)\n",
    "        file_idx_concat = np.concatenate((prev_file_idx, file_idx_m), axis=1)\n",
    "        # sort\n",
    "        sort_idx = np.argsort(D_concat, axis=1)\n",
    "        D_concat = np.take_along_axis(D_concat, sort_idx, axis=1)\n",
    "        I_concat = np.take_along_axis(I_concat, sort_idx, axis=1)\n",
    "        file_idx_concat = np.take_along_axis(file_idx_concat, sort_idx, axis=1)\n",
    "        # update final matrix with top k\n",
    "        final_D_matrix[q_idxs] = D_concat[:, :k]\n",
    "        final_I_matrix[q_idxs] = I_concat[:, :k]\n",
    "        final_file_idx_matrix[q_idxs] = file_idx_concat[:, :k]\n",
    "    return final_D_matrix, final_I_matrix.astype(int), final_file_idx_matrix.astype(int)"
   ]
  },
  {
   "cell_type": "code",
   "execution_count": 102,
   "metadata": {},
   "outputs": [
    {
     "name": "stdout",
     "output_type": "stream",
     "text": [
      "5\n",
      "[[15 10 47 35  6 16  0 27 20  5]\n",
      " [36 17 28 37  6  8 33 10  0 43]\n",
      " [ 6 32 44 35 23 40  3 43 34  4]\n",
      " [ 6 38 46 17 30 11 41 25 33  0]\n",
      " [ 0 17 19 42 34 11 30 15 45 49]]\n",
      "(5, 10)\n"
     ]
    }
   ],
   "source": [
    "# args\n",
    "index_root = \"../shards/idxs/\"\n",
    "nprobe = 10\n",
    "# idx_paths = [os.path.join(index_root, f) for f in os.listdir(index_root)]\n",
    "idx_paths = []\n",
    "centriod_idx_paths = \"\"\n",
    "for f in os.listdir(index_root):\n",
    "    if \"centroid\" in f:\n",
    "        centriod_idx_paths = os.path.join(index_root, f)\n",
    "    else:\n",
    "        idx_paths.append(os.path.join(index_root, f))\n",
    "\n",
    "\n",
    "# some initializations\n",
    "k = 5\n",
    "dim = 64\n",
    "num_shards = 50\n",
    "num_queries = 5\n",
    "\n",
    "# process queries\n",
    "queries = random_queries(num_queries, dim)\n",
    "\n",
    "# knn find top centroids\n",
    "idx_k = (k // nprobe) + k\n",
    "print(idx_k)\n",
    "\n",
    "D, I = query_index_file(centriod_idx_paths, queries, nprobe)\n",
    "print(I)\n",
    "print(I.shape)"
   ]
  },
  {
   "cell_type": "markdown",
   "metadata": {},
   "source": [
    "# Test outterloop query"
   ]
  },
  {
   "cell_type": "code",
   "execution_count": 103,
   "metadata": {},
   "outputs": [
    {
     "name": "stdout",
     "output_type": "stream",
     "text": [
      "{0: [15, 10, 47, 35, 6, 16, 0, 27, 20, 5], 1: [36, 17, 28, 37, 6, 8, 33, 10, 0, 43], 2: [6, 32, 44, 35, 23, 40, 3, 43, 34, 4], 3: [6, 38, 46, 17, 30, 11, 41, 25, 33, 0], 4: [0, 17, 19, 42, 34, 11, 30, 15, 45, 49]}\n",
      "\n"
     ]
    }
   ],
   "source": [
    "# make search topology (loop over queries)\n",
    "stopology = {}\n",
    "for i in range(num_queries):\n",
    "    stopology[i] = list(I[i])\n",
    "print(stopology)\n",
    "print()\n",
    "\n",
    "# for qi, idxs in stopology.items():\n",
    "final_D_matrix, final_I_matrix, final_file_idx_matrix = search_outterloop_query(stopology, queries, idx_k, k, idx_paths)"
   ]
  },
  {
   "cell_type": "code",
   "execution_count": 108,
   "metadata": {},
   "outputs": [
    {
     "name": "stdout",
     "output_type": "stream",
     "text": [
      "[[5.28747559 6.3287611  6.49794102 6.5273447  6.56514645]\n",
      " [4.83784533 5.56429386 5.80746508 5.8135066  5.87090874]\n",
      " [5.14307261 5.3457408  5.36828613 5.49654913 5.62543297]\n",
      " [5.0963521  5.26672077 5.27462673 5.27968597 5.34793758]\n",
      " [5.09117603 5.09383678 5.17984581 5.2782383  5.3036623 ]]\n",
      "\n",
      "[[ 4248 87728  2827 19288 37462]\n",
      " [50265  7226 57973 49381 17145]\n",
      " [13546 43401 92565 80600 15484]\n",
      " [14062 44502 17928 98982 26072]\n",
      " [ 5584 19312 93331 29457 36489]]\n",
      "\n",
      "[[ 5 15  5 35 35]\n",
      " [33  8  0 17  6]\n",
      " [ 3 34  3  6 34]\n",
      " [41 33 11 33 30]\n",
      " [ 0 15 11 45 11]]\n"
     ]
    }
   ],
   "source": [
    "print(final_D_matrix)\n",
    "print()\n",
    "print(final_I_matrix)\n",
    "print()\n",
    "print(final_file_idx_matrix)"
   ]
  },
  {
   "cell_type": "markdown",
   "metadata": {},
   "source": [
    "# Test outterloop index"
   ]
  },
  {
   "cell_type": "code",
   "execution_count": 109,
   "metadata": {},
   "outputs": [
    {
     "name": "stdout",
     "output_type": "stream",
     "text": [
      "{15: [0, 4], 10: [0, 1], 47: [0], 35: [0, 2], 6: [0, 1, 2, 3], 16: [0], 0: [0, 1, 3, 4], 27: [0], 20: [0], 5: [0], 36: [1], 17: [1, 3, 4], 28: [1], 37: [1], 8: [1], 33: [1, 3], 43: [1, 2], 32: [2], 44: [2], 23: [2], 40: [2], 3: [2], 34: [2, 4], 4: [2], 38: [3], 46: [3], 30: [3, 4], 11: [3, 4], 41: [3], 25: [3], 19: [4], 42: [4], 45: [4], 49: [4]}\n"
     ]
    }
   ],
   "source": [
    "idx_query_stopology = {}\n",
    "for index, i in enumerate(I):\n",
    "    for j in i:\n",
    "        if j not in idx_query_stopology:\n",
    "            idx_query_stopology[j] = [index]\n",
    "        else:\n",
    "            idx_query_stopology[j].append(index)\n",
    "\n",
    "print(idx_query_stopology)"
   ]
  },
  {
   "cell_type": "code",
   "execution_count": 110,
   "metadata": {},
   "outputs": [
    {
     "name": "stdout",
     "output_type": "stream",
     "text": [
      "[[5.28747559 6.3287611  6.49794102 6.5273447  6.56514645]\n",
      " [4.83784533 5.56429386 5.80746508 5.8135066  5.87090874]\n",
      " [5.14307261 5.3457408  5.36828613 5.49654913 5.62543297]\n",
      " [5.0963521  5.26672077 5.27462673 5.27968597 5.34793758]\n",
      " [5.09117603 5.09383678 5.17984581 5.2782383  5.3036623 ]]\n",
      "\n",
      "[[ 4248 87728  2827 19288 37462]\n",
      " [50265  7226 57973 49381 17145]\n",
      " [13546 43401 92565 80600 15484]\n",
      " [14062 44502 17928 98982 26072]\n",
      " [ 5584 19312 93331 29457 36489]]\n",
      "\n",
      "[[ 5 15  5 35 35]\n",
      " [33  8  0 17  6]\n",
      " [ 3 34  3  6 34]\n",
      " [41 33 11 33 30]\n",
      " [ 0 15 11 45 11]]\n"
     ]
    }
   ],
   "source": [
    "final_D_matrix2, final_I_matrix2, final_file_idx_matrix2 = search_outterloop_index(idx_query_stopology, queries, idx_k, k, idx_paths)\n",
    "\n",
    "print(final_D_matrix2)\n",
    "print()\n",
    "print(final_I_matrix2)\n",
    "print()\n",
    "print(final_file_idx_matrix2)"
   ]
  },
  {
   "cell_type": "code",
   "execution_count": 112,
   "metadata": {},
   "outputs": [
    {
     "name": "stdout",
     "output_type": "stream",
     "text": [
      "True\n",
      "True\n",
      "True\n"
     ]
    }
   ],
   "source": [
    "# compare two results\n",
    "print(np.array_equal(final_D_matrix, final_D_matrix2))\n",
    "print(np.array_equal(final_I_matrix, final_I_matrix2))\n",
    "print(np.array_equal(final_file_idx_matrix, final_file_idx_matrix2))"
   ]
  },
  {
   "cell_type": "code",
   "execution_count": null,
   "metadata": {},
   "outputs": [],
   "source": []
  },
  {
   "cell_type": "code",
   "execution_count": null,
   "metadata": {},
   "outputs": [],
   "source": []
  },
  {
   "cell_type": "code",
   "execution_count": null,
   "metadata": {},
   "outputs": [],
   "source": []
  },
  {
   "cell_type": "code",
   "execution_count": null,
   "metadata": {},
   "outputs": [],
   "source": []
  }
 ],
 "metadata": {
  "kernelspec": {
   "display_name": "pt",
   "language": "python",
   "name": "python3"
  },
  "language_info": {
   "codemirror_mode": {
    "name": "ipython",
    "version": 3
   },
   "file_extension": ".py",
   "mimetype": "text/x-python",
   "name": "python",
   "nbconvert_exporter": "python",
   "pygments_lexer": "ipython3",
   "version": "3.9.19"
  }
 },
 "nbformat": 4,
 "nbformat_minor": 2
}
