{
 "cells": [
  {
   "cell_type": "code",
   "execution_count": 7,
   "metadata": {},
   "outputs": [],
   "source": [
    "from ucimlrepo import fetch_ucirepo \n",
    "from sklearn import model_selection"
   ]
  },
  {
   "cell_type": "markdown",
   "metadata": {},
   "source": [
    "## Isolet"
   ]
  },
  {
   "cell_type": "code",
   "execution_count": 4,
   "metadata": {},
   "outputs": [
    {
     "name": "stdout",
     "output_type": "stream",
     "text": [
      "{'uci_id': 54, 'name': 'ISOLET', 'repository_url': 'https://archive.ics.uci.edu/dataset/54/isolet', 'data_url': 'https://archive.ics.uci.edu/static/public/54/data.csv', 'abstract': ' Goal: Predict which letter-name was spoken--a simple classification task.', 'area': 'Computer Science', 'tasks': ['Classification'], 'characteristics': ['Multivariate'], 'num_instances': 7797, 'num_features': 617, 'feature_types': ['Real'], 'demographics': [], 'target_col': ['class'], 'index_col': None, 'has_missing_values': 'no', 'missing_values_symbol': None, 'year_of_dataset_creation': 1991, 'last_updated': 'Fri Feb 16 2024', 'dataset_doi': '10.24432/C51G69', 'creators': ['Ron Cole', 'Mark Fanty'], 'intro_paper': {'title': 'Spoken letter recognition', 'authors': 'Fanty, M., Cole, R.', 'published_in': 'Advances in Neural Information Processing Systems 3', 'year': 1991, 'url': None, 'doi': None}, 'additional_info': {'summary': 'This data set was generated as follows. 150 subjects spoke the name of each letter of the alphabet twice. Hence, we have 52 training examples from each speaker. The speakers are grouped into sets of 30 speakers each, and are referred to as isolet1, isolet2, isolet3, isolet4, and isolet5. The data appears in isolet1+2+3+4.data in sequential order, first the speakers from isolet1, then isolet2, and so on.  The test set, isolet5, is a separate file.\\r\\n\\r\\nYou will note that 3 examples are missing.  I believe they were dropped due to difficulties in recording.\\r\\n\\r\\nI believe this is a good domain for a noisy, perceptual task.  It is also a very good domain for testing the scaling abilities of algorithms. For example, C4.5 on this domain is slower than backpropagation!\\r\\n\\r\\nI have formatted the data for C4.5 and provided a C4.5-style names file as well.', 'purpose': None, 'funded_by': None, 'instances_represent': None, 'recommended_data_splits': None, 'sensitive_data': None, 'preprocessing_description': None, 'variable_info': 'The features are described in the paper by Cole and Fanty cited above.  The features include spectral coefficients; contour features, sonorant features, pre-sonorant features, and post-sonorant features.  Exact order of appearance of the features is not known.', 'citation': None}}\n",
      "             name     role         type demographic description units  \\\n",
      "0      Attribute1  Feature   Continuous        None        None  None   \n",
      "1      Attribute2  Feature   Continuous        None        None  None   \n",
      "2      Attribute3  Feature   Continuous        None        None  None   \n",
      "3      Attribute4  Feature   Continuous        None        None  None   \n",
      "4      Attribute5  Feature   Continuous        None        None  None   \n",
      "..            ...      ...          ...         ...         ...   ...   \n",
      "613  Attribute614  Feature   Continuous        None        None  None   \n",
      "614  Attribute615  Feature   Continuous        None        None  None   \n",
      "615  Attribute616  Feature   Continuous        None        None  None   \n",
      "616  Attribute617  Feature   Continuous        None        None  None   \n",
      "617         class   Target  Categorical        None        None  None   \n",
      "\n",
      "    missing_values  \n",
      "0               no  \n",
      "1               no  \n",
      "2               no  \n",
      "3               no  \n",
      "4               no  \n",
      "..             ...  \n",
      "613             no  \n",
      "614             no  \n",
      "615             no  \n",
      "616             no  \n",
      "617             no  \n",
      "\n",
      "[618 rows x 7 columns]\n"
     ]
    }
   ],
   "source": [
    "# fetch dataset \n",
    "isolet = fetch_ucirepo(id=54) \n",
    "  \n",
    "# data (as pandas dataframes) \n",
    "X = isolet.data.features \n",
    "y = isolet.data.targets \n",
    "  \n",
    "# metadata \n",
    "print(isolet.metadata) \n",
    "  \n",
    "# variable information \n",
    "print(isolet.variables) "
   ]
  },
  {
   "cell_type": "code",
   "execution_count": 8,
   "metadata": {},
   "outputs": [
    {
     "name": "stdout",
     "output_type": "stream",
     "text": [
      "[[-0.4232 -0.0238  0.0716 ... -0.4286 -0.6398 -0.8012]\n",
      " [-0.5044 -0.1224 -0.0418 ... -0.0666 -0.2    -0.4858]\n",
      " [-0.488   0.1654  0.3468 ...  0.0096  0.1428 -0.0476]\n",
      " [-0.575  -0.125   0.1    ...  0.7172  0.602   0.5078]\n",
      " [-0.3994  0.2064  0.5442 ... -0.1112 -0.2    -0.7778]]\n"
     ]
    }
   ],
   "source": [
    "X_train, X_test, y_train, y_test = model_selection.train_test_split(X, y, test_size=0.33, random_state=42)\n",
    "\n",
    "# print(X_train.to_numpy())"
   ]
  },
  {
   "cell_type": "markdown",
   "metadata": {},
   "source": [
    "## Communities and Crime"
   ]
  },
  {
   "cell_type": "code",
   "execution_count": 9,
   "metadata": {},
   "outputs": [],
   "source": [
    "# fetch dataset \n",
    "communities_and_crime = fetch_ucirepo(id=183) \n",
    "  \n",
    "# data (as pandas dataframes) \n",
    "X = communities_and_crime.data.features \n",
    "y = communities_and_crime.data.targets "
   ]
  }
 ],
 "metadata": {
  "kernelspec": {
   "display_name": ".venv",
   "language": "python",
   "name": "python3"
  },
  "language_info": {
   "codemirror_mode": {
    "name": "ipython",
    "version": 3
   },
   "file_extension": ".py",
   "mimetype": "text/x-python",
   "name": "python",
   "nbconvert_exporter": "python",
   "pygments_lexer": "ipython3",
   "version": "3.9.0"
  }
 },
 "nbformat": 4,
 "nbformat_minor": 2
}
